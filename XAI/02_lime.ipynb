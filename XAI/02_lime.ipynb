{
 "cells": [
  {
   "cell_type": "markdown",
   "metadata": {
    "isInteractiveWindowMessageCell": true
   },
   "source": [
    "Connected to xai (Python 3.8.0)"
   ]
  },
  {
   "cell_type": "code",
   "execution_count": 1,
   "metadata": {},
   "outputs": [],
   "source": [
    "from utils import DataLoader\n",
    "from sklearn.ensemble import RandomForestClassifier\n",
    "from sklearn.metrics import f1_score, accuracy_score\n",
    "from interpret.blackbox import LimeTabular\n",
    "from interpret import show"
   ]
  },
  {
   "cell_type": "code",
   "execution_count": 2,
   "metadata": {},
   "outputs": [
    {
     "name": "stdout",
     "output_type": "stream",
     "text": [
      "(7778, 21)\n",
      "(1022, 21)\n"
     ]
    }
   ],
   "source": [
    "data_loader = DataLoader()\n",
    "data_loader.load_dataset()\n",
    "data_loader.preprocess_data()\n",
    "# Split the data for evaluation\n",
    "X_train, X_test, y_train, y_test = data_loader.get_data_split()\n",
    "# Oversample the train data\n",
    "X_train, y_train = data_loader.oversample(X_train, y_train)\n",
    "print(X_train.shape)\n",
    "print(X_test.shape)\n",
    "X_train = X_train.applymap(lambda x: 1.0 if x == True else 0.0 if x == False else x)\n",
    "X_test = X_test.applymap(lambda x: 1.0 if x == True else 0.0 if x == False else x)"
   ]
  },
  {
   "cell_type": "code",
   "execution_count": 3,
   "metadata": {},
   "outputs": [
    {
     "name": "stdout",
     "output_type": "stream",
     "text": [
      "F1 Score 0.5332323742217735\n",
      "Accuracy 0.9442270058708415\n"
     ]
    }
   ],
   "source": [
    "rf = RandomForestClassifier()\n",
    "rf.fit(X_train, y_train)\n",
    "y_pred = rf.predict(X_test)\n",
    "print(f\"F1 Score {f1_score(y_test, y_pred, average='macro')}\")\n",
    "print(f\"Accuracy {accuracy_score(y_test, y_pred)}\")"
   ]
  },
  {
   "cell_type": "code",
   "execution_count": 4,
   "metadata": {},
   "outputs": [
    {
     "data": {
      "text/html": [
       "<!-- http://127.0.0.1:7001/2667652000592/ -->\n",
       "<iframe src=\"http://127.0.0.1:7001/2667652000592/\" width=100% height=800 frameBorder=\"0\"></iframe>"
      ]
     },
     "metadata": {},
     "output_type": "display_data"
    }
   ],
   "source": [
    "# Initilize Lime for Tabular data\n",
    "# Local interpretable model-agnostic explanations\n",
    "lime = LimeTabular(model=rf,\n",
    "                   #predict_fn=rf.predict_proba, \n",
    "                   data=X_train, \n",
    "                   random_state=1)\n",
    "# Get local explanations\n",
    "lime_local = lime.explain_local(X_test[-20:], \n",
    "                                y_test[-20:], \n",
    "                                name='LIME')\n",
    "\n",
    "show(lime_local)"
   ]
  }
 ],
 "metadata": {
  "kernelspec": {
   "display_name": "xai",
   "language": "python",
   "name": "python3"
  },
  "language_info": {
   "codemirror_mode": {
    "name": "ipython",
    "version": 3
   },
   "file_extension": ".py",
   "mimetype": "text/x-python",
   "name": "python",
   "nbconvert_exporter": "python",
   "pygments_lexer": "ipython3",
   "version": "3.8.0"
  }
 },
 "nbformat": 4,
 "nbformat_minor": 2
}

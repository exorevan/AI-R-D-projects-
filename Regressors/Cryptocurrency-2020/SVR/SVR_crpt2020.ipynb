{
 "cells": [
  {
   "cell_type": "code",
   "execution_count": 2,
   "metadata": {},
   "outputs": [
    {
     "name": "stderr",
     "output_type": "stream",
     "text": [
      "c:\\Users\\exore\\anaconda3\\envs\\kaggle\\lib\\site-packages\\tqdm\\auto.py:21: TqdmWarning: IProgress not found. Please update jupyter and ipywidgets. See https://ipywidgets.readthedocs.io/en/stable/user_install.html\n",
      "  from .autonotebook import tqdm as notebook_tqdm\n"
     ]
    }
   ],
   "source": [
    "import math\n",
    "import warnings\n",
    "\n",
    "import matplotlib.pyplot as plt\n",
    "import numpy as np\n",
    "import optuna\n",
    "import pandas as pd\n",
    "import seaborn as sns\n",
    "\n",
    "from sklearn.metrics import mean_absolute_error, r2_score\n",
    "from sklearn.model_selection import train_test_split, cross_validate, GridSearchCV\n",
    "from sklearn.preprocessing import MinMaxScaler\n",
    "from sklearn.svm import SVR\n",
    "\n",
    "from IPython.display import display, HTML\n",
    "\n",
    "warnings.filterwarnings('ignore')"
   ]
  },
  {
   "cell_type": "code",
   "execution_count": 3,
   "metadata": {},
   "outputs": [
    {
     "data": {
      "text/html": [
       "<div>\n",
       "<style scoped>\n",
       "    .dataframe tbody tr th:only-of-type {\n",
       "        vertical-align: middle;\n",
       "    }\n",
       "\n",
       "    .dataframe tbody tr th {\n",
       "        vertical-align: top;\n",
       "    }\n",
       "\n",
       "    .dataframe thead th {\n",
       "        text-align: right;\n",
       "    }\n",
       "</style>\n",
       "<table border=\"1\" class=\"dataframe\">\n",
       "  <thead>\n",
       "    <tr style=\"text-align: right;\">\n",
       "      <th></th>\n",
       "      <th>Unix Timestamp</th>\n",
       "      <th>Date</th>\n",
       "      <th>Symbol</th>\n",
       "      <th>Open</th>\n",
       "      <th>High</th>\n",
       "      <th>Low</th>\n",
       "      <th>Close</th>\n",
       "      <th>Volume</th>\n",
       "    </tr>\n",
       "  </thead>\n",
       "  <tbody>\n",
       "    <tr>\n",
       "      <th>0</th>\n",
       "      <td>1.618880e+12</td>\n",
       "      <td>4/20/2021 0:02</td>\n",
       "      <td>BTCUSD</td>\n",
       "      <td>55717.47</td>\n",
       "      <td>55723.00</td>\n",
       "      <td>55541.69</td>\n",
       "      <td>55541.69</td>\n",
       "      <td>2.406734</td>\n",
       "    </tr>\n",
       "    <tr>\n",
       "      <th>1</th>\n",
       "      <td>1.618880e+12</td>\n",
       "      <td>4/20/2021 0:01</td>\n",
       "      <td>BTCUSD</td>\n",
       "      <td>55768.94</td>\n",
       "      <td>55849.82</td>\n",
       "      <td>55711.74</td>\n",
       "      <td>55717.47</td>\n",
       "      <td>0.573458</td>\n",
       "    </tr>\n",
       "    <tr>\n",
       "      <th>2</th>\n",
       "      <td>1.618880e+12</td>\n",
       "      <td>4/20/2021 0:00</td>\n",
       "      <td>BTCUSD</td>\n",
       "      <td>55691.79</td>\n",
       "      <td>55793.15</td>\n",
       "      <td>55691.79</td>\n",
       "      <td>55768.94</td>\n",
       "      <td>3.309904</td>\n",
       "    </tr>\n",
       "    <tr>\n",
       "      <th>3</th>\n",
       "      <td>1.618880e+12</td>\n",
       "      <td>4/19/2021 23:59</td>\n",
       "      <td>BTCUSD</td>\n",
       "      <td>55777.86</td>\n",
       "      <td>55777.86</td>\n",
       "      <td>55677.92</td>\n",
       "      <td>55691.79</td>\n",
       "      <td>0.684934</td>\n",
       "    </tr>\n",
       "    <tr>\n",
       "      <th>4</th>\n",
       "      <td>1.618880e+12</td>\n",
       "      <td>4/19/2021 23:58</td>\n",
       "      <td>BTCUSD</td>\n",
       "      <td>55803.50</td>\n",
       "      <td>55823.88</td>\n",
       "      <td>55773.08</td>\n",
       "      <td>55777.86</td>\n",
       "      <td>0.477225</td>\n",
       "    </tr>\n",
       "    <tr>\n",
       "      <th>...</th>\n",
       "      <td>...</td>\n",
       "      <td>...</td>\n",
       "      <td>...</td>\n",
       "      <td>...</td>\n",
       "      <td>...</td>\n",
       "      <td>...</td>\n",
       "      <td>...</td>\n",
       "      <td>...</td>\n",
       "    </tr>\n",
       "    <tr>\n",
       "      <th>658060</th>\n",
       "      <td>1.577840e+12</td>\n",
       "      <td>1/1/2020 0:04</td>\n",
       "      <td>BTCUSD</td>\n",
       "      <td>7163.60</td>\n",
       "      <td>7163.60</td>\n",
       "      <td>7163.00</td>\n",
       "      <td>7163.00</td>\n",
       "      <td>1.751844</td>\n",
       "    </tr>\n",
       "    <tr>\n",
       "      <th>658061</th>\n",
       "      <td>1.577840e+12</td>\n",
       "      <td>1/1/2020 0:03</td>\n",
       "      <td>BTCUSD</td>\n",
       "      <td>7163.00</td>\n",
       "      <td>7163.60</td>\n",
       "      <td>7163.00</td>\n",
       "      <td>7163.60</td>\n",
       "      <td>0.002706</td>\n",
       "    </tr>\n",
       "    <tr>\n",
       "      <th>658062</th>\n",
       "      <td>1.577840e+12</td>\n",
       "      <td>1/1/2020 0:02</td>\n",
       "      <td>BTCUSD</td>\n",
       "      <td>7163.30</td>\n",
       "      <td>7164.22</td>\n",
       "      <td>7163.00</td>\n",
       "      <td>7163.00</td>\n",
       "      <td>0.063904</td>\n",
       "    </tr>\n",
       "    <tr>\n",
       "      <th>658063</th>\n",
       "      <td>1.577840e+12</td>\n",
       "      <td>1/1/2020 0:01</td>\n",
       "      <td>BTCUSD</td>\n",
       "      <td>7163.30</td>\n",
       "      <td>7164.23</td>\n",
       "      <td>7163.30</td>\n",
       "      <td>7163.30</td>\n",
       "      <td>0.002646</td>\n",
       "    </tr>\n",
       "    <tr>\n",
       "      <th>658064</th>\n",
       "      <td>1.577840e+12</td>\n",
       "      <td>1/1/2020 0:00</td>\n",
       "      <td>BTCUSD</td>\n",
       "      <td>7165.90</td>\n",
       "      <td>7170.79</td>\n",
       "      <td>7163.30</td>\n",
       "      <td>7163.30</td>\n",
       "      <td>0.007931</td>\n",
       "    </tr>\n",
       "  </tbody>\n",
       "</table>\n",
       "<p>658065 rows × 8 columns</p>\n",
       "</div>"
      ],
      "text/plain": [
       "        Unix Timestamp             Date  Symbol      Open      High       Low  \\\n",
       "0         1.618880e+12   4/20/2021 0:02  BTCUSD  55717.47  55723.00  55541.69   \n",
       "1         1.618880e+12   4/20/2021 0:01  BTCUSD  55768.94  55849.82  55711.74   \n",
       "2         1.618880e+12   4/20/2021 0:00  BTCUSD  55691.79  55793.15  55691.79   \n",
       "3         1.618880e+12  4/19/2021 23:59  BTCUSD  55777.86  55777.86  55677.92   \n",
       "4         1.618880e+12  4/19/2021 23:58  BTCUSD  55803.50  55823.88  55773.08   \n",
       "...                ...              ...     ...       ...       ...       ...   \n",
       "658060    1.577840e+12    1/1/2020 0:04  BTCUSD   7163.60   7163.60   7163.00   \n",
       "658061    1.577840e+12    1/1/2020 0:03  BTCUSD   7163.00   7163.60   7163.00   \n",
       "658062    1.577840e+12    1/1/2020 0:02  BTCUSD   7163.30   7164.22   7163.00   \n",
       "658063    1.577840e+12    1/1/2020 0:01  BTCUSD   7163.30   7164.23   7163.30   \n",
       "658064    1.577840e+12    1/1/2020 0:00  BTCUSD   7165.90   7170.79   7163.30   \n",
       "\n",
       "           Close    Volume  \n",
       "0       55541.69  2.406734  \n",
       "1       55717.47  0.573458  \n",
       "2       55768.94  3.309904  \n",
       "3       55691.79  0.684934  \n",
       "4       55777.86  0.477225  \n",
       "...          ...       ...  \n",
       "658060   7163.00  1.751844  \n",
       "658061   7163.60  0.002706  \n",
       "658062   7163.00  0.063904  \n",
       "658063   7163.30  0.002646  \n",
       "658064   7163.30  0.007931  \n",
       "\n",
       "[658065 rows x 8 columns]"
      ]
     },
     "execution_count": 3,
     "metadata": {},
     "output_type": "execute_result"
    }
   ],
   "source": [
    "btc_data = pd.read_csv('gemini_BTCUSD_2020.csv', sep=',')\n",
    "btc_data"
   ]
  },
  {
   "cell_type": "markdown",
   "metadata": {},
   "source": [
    "=======================PREDICTION WITH FEATURES======================="
   ]
  },
  {
   "cell_type": "code",
   "execution_count": 4,
   "metadata": {},
   "outputs": [
    {
     "data": {
      "text/plain": [
       "array([[8.49518930e-01, 8.49460489e-01, 8.48311695e-01, 8.46635149e-01,\n",
       "        2.30622826e-03],\n",
       "       [8.50363327e-01, 8.51540844e-01, 8.51105153e-01, 8.49518930e-01,\n",
       "        5.49510071e-04],\n",
       "       [8.49097633e-01, 8.50611229e-01, 8.50777429e-01, 8.50363327e-01,\n",
       "        3.17168196e-03],\n",
       "       ...,\n",
       "       [5.29575155e-02, 5.29022450e-02, 5.35816634e-02, 5.29525938e-02,\n",
       "        6.12354704e-05],\n",
       "       [5.29575155e-02, 5.29024090e-02, 5.35865915e-02, 5.29575155e-02,\n",
       "        2.53533998e-06],\n",
       "       [5.30001701e-02, 5.30100192e-02, 5.35865915e-02, 5.29575155e-02,\n",
       "        7.59975304e-06]])"
      ]
     },
     "execution_count": 4,
     "metadata": {},
     "output_type": "execute_result"
    }
   ],
   "source": [
    "btc_data_pr = btc_data.drop(\n",
    "    columns=[\n",
    "        'Unix Timestamp', \n",
    "        'Date',\n",
    "        'Symbol',\n",
    "    ], \n",
    ")\n",
    "\n",
    "scaler = MinMaxScaler()\n",
    "\n",
    "btc_data_norm = scaler.fit_transform(btc_data_pr)\n",
    "btc_data_norm"
   ]
  },
  {
   "cell_type": "code",
   "execution_count": 5,
   "metadata": {},
   "outputs": [
    {
     "name": "stdout",
     "output_type": "stream",
     "text": [
      "x_train: 394839\n",
      "x_test:  263226\n"
     ]
    }
   ],
   "source": [
    "X_train, X_test, y_train, y_test = train_test_split(\n",
    "    btc_data_norm[:, :-1], \n",
    "    btc_data_norm[:, -1], \n",
    "    test_size=0.4, \n",
    "    random_state=42\n",
    ")\n",
    "\n",
    "print(f\"x_train: {len(X_train)}\\nx_test:  {len(X_test)}\")"
   ]
  },
  {
   "cell_type": "code",
   "execution_count": 6,
   "metadata": {},
   "outputs": [],
   "source": [
    "svr = SVR(kernel='rbf', C=100, gamma=0.1)\n",
    "#svr.fit(X_train, y_train)"
   ]
  },
  {
   "cell_type": "code",
   "execution_count": 7,
   "metadata": {},
   "outputs": [
    {
     "ename": "NotFittedError",
     "evalue": "This SVR instance is not fitted yet. Call 'fit' with appropriate arguments before using this estimator.",
     "output_type": "error",
     "traceback": [
      "\u001b[1;31m---------------------------------------------------------------------------\u001b[0m",
      "\u001b[1;31mNotFittedError\u001b[0m                            Traceback (most recent call last)",
      "\u001b[1;32mc:\\Users\\exore\\Desktop\\AI-R-D-projects-\\Regressors\\Cryptocurrency-2020\\SVR\\SVR_crpt2020.ipynb Cell 7\u001b[0m line \u001b[0;36m1\n\u001b[1;32m----> <a href='vscode-notebook-cell:/c%3A/Users/exore/Desktop/AI-R-D-projects-/Regressors/Cryptocurrency-2020/SVR/SVR_crpt2020.ipynb#W6sZmlsZQ%3D%3D?line=0'>1</a>\u001b[0m y_test_pred \u001b[39m=\u001b[39m svr\u001b[39m.\u001b[39;49mpredict(X_test)\n\u001b[0;32m      <a href='vscode-notebook-cell:/c%3A/Users/exore/Desktop/AI-R-D-projects-/Regressors/Cryptocurrency-2020/SVR/SVR_crpt2020.ipynb#W6sZmlsZQ%3D%3D?line=1'>2</a>\u001b[0m \u001b[39mprint\u001b[39m(\u001b[39mf\u001b[39m\u001b[39m\"\u001b[39m\u001b[39m\\n\u001b[39;00m\u001b[39mMSE is \u001b[39m\u001b[39m{\u001b[39;00mmean_absolute_error(y_test_pred,\u001b[39m \u001b[39my_test)\u001b[39m}\u001b[39;00m\u001b[39m\\n\u001b[39;00m\u001b[39m\"\u001b[39m)\n",
      "File \u001b[1;32mc:\\Users\\exore\\anaconda3\\envs\\kaggle\\lib\\site-packages\\sklearn\\svm\\_base.py:431\u001b[0m, in \u001b[0;36mBaseLibSVM.predict\u001b[1;34m(self, X)\u001b[0m\n\u001b[0;32m    415\u001b[0m \u001b[39mdef\u001b[39;00m \u001b[39mpredict\u001b[39m(\u001b[39mself\u001b[39m, X):\n\u001b[0;32m    416\u001b[0m \u001b[39m    \u001b[39m\u001b[39m\"\"\"Perform regression on samples in X.\u001b[39;00m\n\u001b[0;32m    417\u001b[0m \n\u001b[0;32m    418\u001b[0m \u001b[39m    For an one-class model, +1 (inlier) or -1 (outlier) is returned.\u001b[39;00m\n\u001b[1;32m   (...)\u001b[0m\n\u001b[0;32m    429\u001b[0m \u001b[39m        The predicted values.\u001b[39;00m\n\u001b[0;32m    430\u001b[0m \u001b[39m    \"\"\"\u001b[39;00m\n\u001b[1;32m--> 431\u001b[0m     X \u001b[39m=\u001b[39m \u001b[39mself\u001b[39;49m\u001b[39m.\u001b[39;49m_validate_for_predict(X)\n\u001b[0;32m    432\u001b[0m     predict \u001b[39m=\u001b[39m \u001b[39mself\u001b[39m\u001b[39m.\u001b[39m_sparse_predict \u001b[39mif\u001b[39;00m \u001b[39mself\u001b[39m\u001b[39m.\u001b[39m_sparse \u001b[39melse\u001b[39;00m \u001b[39mself\u001b[39m\u001b[39m.\u001b[39m_dense_predict\n\u001b[0;32m    433\u001b[0m     \u001b[39mreturn\u001b[39;00m predict(X)\n",
      "File \u001b[1;32mc:\\Users\\exore\\anaconda3\\envs\\kaggle\\lib\\site-packages\\sklearn\\svm\\_base.py:608\u001b[0m, in \u001b[0;36mBaseLibSVM._validate_for_predict\u001b[1;34m(self, X)\u001b[0m\n\u001b[0;32m    607\u001b[0m \u001b[39mdef\u001b[39;00m \u001b[39m_validate_for_predict\u001b[39m(\u001b[39mself\u001b[39m, X):\n\u001b[1;32m--> 608\u001b[0m     check_is_fitted(\u001b[39mself\u001b[39;49m)\n\u001b[0;32m    610\u001b[0m     \u001b[39mif\u001b[39;00m \u001b[39mnot\u001b[39;00m \u001b[39mcallable\u001b[39m(\u001b[39mself\u001b[39m\u001b[39m.\u001b[39mkernel):\n\u001b[0;32m    611\u001b[0m         X \u001b[39m=\u001b[39m \u001b[39mself\u001b[39m\u001b[39m.\u001b[39m_validate_data(\n\u001b[0;32m    612\u001b[0m             X,\n\u001b[0;32m    613\u001b[0m             accept_sparse\u001b[39m=\u001b[39m\u001b[39m\"\u001b[39m\u001b[39mcsr\u001b[39m\u001b[39m\"\u001b[39m,\n\u001b[1;32m   (...)\u001b[0m\n\u001b[0;32m    617\u001b[0m             reset\u001b[39m=\u001b[39m\u001b[39mFalse\u001b[39;00m,\n\u001b[0;32m    618\u001b[0m         )\n",
      "File \u001b[1;32mc:\\Users\\exore\\anaconda3\\envs\\kaggle\\lib\\site-packages\\sklearn\\utils\\validation.py:1461\u001b[0m, in \u001b[0;36mcheck_is_fitted\u001b[1;34m(estimator, attributes, msg, all_or_any)\u001b[0m\n\u001b[0;32m   1458\u001b[0m     \u001b[39mraise\u001b[39;00m \u001b[39mTypeError\u001b[39;00m(\u001b[39m\"\u001b[39m\u001b[39m%s\u001b[39;00m\u001b[39m is not an estimator instance.\u001b[39m\u001b[39m\"\u001b[39m \u001b[39m%\u001b[39m (estimator))\n\u001b[0;32m   1460\u001b[0m \u001b[39mif\u001b[39;00m \u001b[39mnot\u001b[39;00m _is_fitted(estimator, attributes, all_or_any):\n\u001b[1;32m-> 1461\u001b[0m     \u001b[39mraise\u001b[39;00m NotFittedError(msg \u001b[39m%\u001b[39m {\u001b[39m\"\u001b[39m\u001b[39mname\u001b[39m\u001b[39m\"\u001b[39m: \u001b[39mtype\u001b[39m(estimator)\u001b[39m.\u001b[39m\u001b[39m__name__\u001b[39m})\n",
      "\u001b[1;31mNotFittedError\u001b[0m: This SVR instance is not fitted yet. Call 'fit' with appropriate arguments before using this estimator."
     ]
    }
   ],
   "source": [
    "y_test_pred = svr.predict(X_test)\n",
    "print(f\"\\nMSE is {mean_absolute_error(y_test_pred, y_test)}\\n\")"
   ]
  },
  {
   "cell_type": "markdown",
   "metadata": {},
   "source": [
    "=======================TIMESERIES PREDICTION======================="
   ]
  },
  {
   "cell_type": "code",
   "execution_count": 21,
   "metadata": {},
   "outputs": [
    {
     "name": "stdout",
     "output_type": "stream",
     "text": [
      "x: (657865, 200)\n"
     ]
    }
   ],
   "source": [
    "def split_sequence(sequence, n_steps):\n",
    "    X, y = list(), list()\n",
    "    for i in range(len(sequence) - n_steps):\n",
    "        # найти конец шага\n",
    "        end_ix = i + n_steps\n",
    "        # разделить последовательность на примеры с входом и выходом\n",
    "        seq_x, seq_y = sequence[i:end_ix], sequence[end_ix]\n",
    "        X.append(seq_x)\n",
    "        y.append(seq_y)\n",
    "    return np.array(X), np.array(y)\n",
    "\n",
    "X, y = split_sequence(btc_data_norm[:, -1], 200)\n",
    "print(f\"x: {X.shape}\")"
   ]
  },
  {
   "cell_type": "code",
   "execution_count": 22,
   "metadata": {},
   "outputs": [
    {
     "ename": "",
     "evalue": "",
     "output_type": "error",
     "traceback": [
      "\u001b[1;31mThe Kernel crashed while executing code in the the current cell or a previous cell. Please review the code in the cell(s) to identify a possible cause of the failure. Click <a href='https://aka.ms/vscodeJupyterKernelCrash'>here</a> for more info. View Jupyter <a href='command:jupyter.viewOutput'>log</a> for further details."
     ]
    }
   ],
   "source": [
    "svr = SVR(kernel='rbf', C=100, gamma=0.1)\n",
    "svr.fit(X, y)"
   ]
  },
  {
   "cell_type": "code",
   "execution_count": null,
   "metadata": {},
   "outputs": [
    {
     "name": "stdout",
     "output_type": "stream",
     "text": [
      "\n",
      "MSE is 0.09656167112545892\n",
      "\n"
     ]
    }
   ],
   "source": [
    "y_test_pred = svr.predict([X[2]])\n",
    "print(f\"\\nMSE is {mean_absolute_error([y_test_pred], [y[2]])}\\n\")"
   ]
  },
  {
   "cell_type": "code",
   "execution_count": 20,
   "metadata": {},
   "outputs": [
    {
     "data": {
      "text/plain": [
       "(array([0.0999476]), 0.000735188281173248)"
      ]
     },
     "execution_count": 20,
     "metadata": {},
     "output_type": "execute_result"
    }
   ],
   "source": [
    "svr.predict([X[1]]), y[1]"
   ]
  },
  {
   "cell_type": "code",
   "execution_count": 45,
   "metadata": {},
   "outputs": [
    {
     "data": {
      "text/plain": [
       "array([0.00054951, 0.00317168, 0.00065633, 0.0004573 , 0.00523363,\n",
       "       0.00066723, 0.00045053, 0.00043765, 0.00027446, 0.00050238])"
      ]
     },
     "execution_count": 45,
     "metadata": {},
     "output_type": "execute_result"
    }
   ],
   "source": [
    "X[1]"
   ]
  },
  {
   "cell_type": "code",
   "execution_count": null,
   "metadata": {},
   "outputs": [],
   "source": []
  }
 ],
 "metadata": {
  "kernelspec": {
   "display_name": "kaggle",
   "language": "python",
   "name": "python3"
  },
  "language_info": {
   "codemirror_mode": {
    "name": "ipython",
    "version": 3
   },
   "file_extension": ".py",
   "mimetype": "text/x-python",
   "name": "python",
   "nbconvert_exporter": "python",
   "pygments_lexer": "ipython3",
   "version": "3.8.0"
  }
 },
 "nbformat": 4,
 "nbformat_minor": 2
}
